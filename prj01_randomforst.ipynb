{
 "cells": [
  {
   "cell_type": "code",
   "execution_count": 1,
   "metadata": {},
   "outputs": [
    {
     "ename": "ModuleNotFoundError",
     "evalue": "No module named 'lightgbm'",
     "output_type": "error",
     "traceback": [
      "\u001b[1;31m---------------------------------------------------------------------------\u001b[0m",
      "\u001b[1;31mModuleNotFoundError\u001b[0m                       Traceback (most recent call last)",
      "\u001b[1;32m<ipython-input-1-b38d642a5f4b>\u001b[0m in \u001b[0;36m<module>\u001b[1;34m\u001b[0m\n\u001b[0;32m      6\u001b[0m \u001b[1;32mfrom\u001b[0m \u001b[0msklearn\u001b[0m\u001b[1;33m.\u001b[0m\u001b[0mtree\u001b[0m \u001b[1;32mimport\u001b[0m \u001b[0mDecisionTreeClassifier\u001b[0m\u001b[1;33m\u001b[0m\u001b[1;33m\u001b[0m\u001b[0m\n\u001b[0;32m      7\u001b[0m \u001b[1;32mimport\u001b[0m \u001b[0mmatplotlib\u001b[0m\u001b[1;33m.\u001b[0m\u001b[0mpyplot\u001b[0m \u001b[1;32mas\u001b[0m \u001b[0mplt\u001b[0m\u001b[1;33m\u001b[0m\u001b[1;33m\u001b[0m\u001b[0m\n\u001b[1;32m----> 8\u001b[1;33m \u001b[1;32mfrom\u001b[0m \u001b[0mlightgbm\u001b[0m \u001b[1;32mimport\u001b[0m \u001b[0mplot_importance\u001b[0m\u001b[1;33m\u001b[0m\u001b[1;33m\u001b[0m\u001b[0m\n\u001b[0m\u001b[0;32m      9\u001b[0m \u001b[1;32mfrom\u001b[0m \u001b[0msklearn\u001b[0m\u001b[1;33m.\u001b[0m\u001b[0mmetrics\u001b[0m \u001b[1;32mimport\u001b[0m \u001b[0mconfusion_matrix\u001b[0m\u001b[1;33m\u001b[0m\u001b[1;33m\u001b[0m\u001b[0m\n\u001b[0;32m     10\u001b[0m \u001b[1;32mfrom\u001b[0m \u001b[0msklearn\u001b[0m\u001b[1;33m.\u001b[0m\u001b[0mmetrics\u001b[0m \u001b[1;32mimport\u001b[0m \u001b[0mprecision_score\u001b[0m\u001b[1;33m\u001b[0m\u001b[1;33m\u001b[0m\u001b[0m\n",
      "\u001b[1;31mModuleNotFoundError\u001b[0m: No module named 'lightgbm'"
     ]
    }
   ],
   "source": [
    "import pandas as pd\n",
    "from sklearn.model_selection import train_test_split\n",
    "from sklearn.ensemble import RandomForestClassifier\n",
    "from sklearn.metrics import accuracy_score\n",
    "from sklearn.model_selection import GridSearchCV\n",
    "from sklearn.tree import DecisionTreeClassifier\n",
    "import matplotlib.pyplot as plt\n",
    "from lightgbm import plot_importance\n",
    "from sklearn.metrics import confusion_matrix\n",
    "from sklearn.metrics import precision_score\n",
    "from sklearn.metrics import accuracy_score\n",
    "from sklearn.metrics import recall_score\n",
    "from sklearn.metrics import f1_score\n",
    "from sklearn.metrics import roc_auc_score\n"
   ]
  },
  {
   "cell_type": "code",
   "execution_count": 3,
   "metadata": {},
   "outputs": [],
   "source": [
    "train_feature = pd.read_csv(\"../prj_running_machine/data/train_features.csv\")\n",
    "train_label = pd.read_csv(\"../prj_running_machine/data/train_labels.csv\")\n",
    "sample_submission = pd.read_csv(\"../prj_running_machine/data/sample_submission.csv\")\n",
    "test_feature = pd.read_csv(\"../prj_running_machine/data/test_features.csv\")"
   ]
  },
  {
   "cell_type": "code",
   "execution_count": 7,
   "metadata": {},
   "outputs": [
    {
     "data": {
      "text/plain": [
       "array(['Shoulder Press (dumbbell)', 'Non-Exercise', 'Biceps Curl (band)',\n",
       "       'Side Plank Right side', 'Plank', 'Chest Press (rack)',\n",
       "       'Wall Squat', 'Russian Twist', 'Running (treadmill)',\n",
       "       'Pushup (knee or foot variation)', 'Wall Ball',\n",
       "       'Dynamic Stretch (at your own pace)',\n",
       "       'Sit-up (hands positioned behind head)', 'Tap Right Device',\n",
       "       'Static Stretch (at your own pace)', 'Device on Table',\n",
       "       'Triceps extension (lying down)', 'Elliptical machine', 'Burpee',\n",
       "       'Walking lunge', 'Lateral Raise', 'Jump Rope',\n",
       "       'Triceps Kickback (knee on bench) (label spans both arms)',\n",
       "       'Medicine Ball Slam',\n",
       "       'Lunge (alternating both legs, weight optional)',\n",
       "       'Fast Alternating Punches', 'Static stretch',\n",
       "       'Squat Rack Shoulder Press', 'Overhead Triceps Extension',\n",
       "       'Seated Back Fly', 'Bicep Curl', 'Side Plank Left side',\n",
       "       'Dumbbell Squat (hands at side)', 'Dumbbell Deadlift Row',\n",
       "       'Two-arm Dumbbell Curl (both arms, not alternating)', 'Walk',\n",
       "       'Arm Band Adjustment', 'Band Pull-Down Row', 'Squat Jump',\n",
       "       'Squat (arms in front of body, parallel to ground)',\n",
       "       'Triceps Kickback (knee on bench) (left arm)',\n",
       "       'Triceps Kickback (knee on bench) (right arm)', 'Butterfly Sit-up',\n",
       "       'V-up', 'Lawnmower (right arm)', 'Squat (hands behind head)',\n",
       "       'Squat', 'Jumping Jacks', 'Repetitive Stretching',\n",
       "       'Squat (kettlebell / goblet)', 'Power Boat pose', 'Pushups',\n",
       "       'Dumbbell Row (knee on bench) (label spans both arms)', 'Crunch',\n",
       "       'Sit-ups', 'Dumbbell Row (knee on bench) (left arm)', 'Dip',\n",
       "       'Kettlebell Swing', 'Dumbbell Row (knee on bench) (right arm)',\n",
       "       'Lawnmower (left arm)', 'Rowing machine'], dtype=object)"
      ]
     },
     "execution_count": 7,
     "metadata": {},
     "output_type": "execute_result"
    }
   ],
   "source": [
    "train_label['label_desc'].unique()"
   ]
  },
  {
   "cell_type": "code",
   "execution_count": null,
   "metadata": {},
   "outputs": [],
   "source": [
    "train_feature['id'].unique()"
   ]
  },
  {
   "cell_type": "code",
   "execution_count": null,
   "metadata": {},
   "outputs": [],
   "source": [
    "test_feature"
   ]
  },
  {
   "cell_type": "code",
   "execution_count": null,
   "metadata": {},
   "outputs": [],
   "source": [
    "train_label['label_desc'].value_counts()"
   ]
  },
  {
   "cell_type": "code",
   "execution_count": null,
   "metadata": {},
   "outputs": [],
   "source": [
    "train_label"
   ]
  },
  {
   "cell_type": "markdown",
   "metadata": {},
   "source": [
    "전체 데이터 3,125의 데이터 중 1518개의 Non-Exercise가 발생."
   ]
  },
  {
   "cell_type": "markdown",
   "metadata": {},
   "source": [
    "## 1. train_feature에서 ID별 데이터 통합작업 요구\n"
   ]
  },
  {
   "cell_type": "code",
   "execution_count": null,
   "metadata": {},
   "outputs": [],
   "source": [
    "train_feature"
   ]
  },
  {
   "cell_type": "code",
   "execution_count": null,
   "metadata": {},
   "outputs": [],
   "source": [
    "train_feature.describe()"
   ]
  },
  {
   "cell_type": "markdown",
   "metadata": {},
   "source": []
  },
  {
   "cell_type": "code",
   "execution_count": null,
   "metadata": {},
   "outputs": [],
   "source": [
    "features = ['id', 'acc_x', 'acc_y', 'acc_z', 'gy_x', 'gy_y', 'gy_z']\n",
    "X_data = train_feature[features].groupby('id').agg(['sum','median','max', 'min', 'mean'])\n",
    "X_exam = test_feature[features].groupby('id').agg(['sum','median','max', 'min', 'mean'])\n",
    "\n",
    "## ID별로 데이터의 sum, median,max, min, mean을 구함"
   ]
  },
  {
   "cell_type": "code",
   "execution_count": null,
   "metadata": {},
   "outputs": [],
   "source": [
    "X_data"
   ]
  },
  {
   "cell_type": "code",
   "execution_count": null,
   "metadata": {},
   "outputs": [],
   "source": [
    "y_data = train_label['label']"
   ]
  },
  {
   "cell_type": "code",
   "execution_count": null,
   "metadata": {},
   "outputs": [],
   "source": [
    "y_data"
   ]
  },
  {
   "cell_type": "code",
   "execution_count": null,
   "metadata": {},
   "outputs": [],
   "source": [
    "X_train, X_test,y_train, y_test = train_test_split(X_data, y_data, test_size=0.2, random_state=26,stratify=y_data)"
   ]
  },
  {
   "cell_type": "code",
   "execution_count": null,
   "metadata": {},
   "outputs": [],
   "source": [
    "X_train"
   ]
  },
  {
   "cell_type": "code",
   "execution_count": null,
   "metadata": {},
   "outputs": [],
   "source": [
    "y_train"
   ]
  },
  {
   "cell_type": "code",
   "execution_count": null,
   "metadata": {},
   "outputs": [],
   "source": [
    "## 모델 생성"
   ]
  },
  {
   "cell_type": "code",
   "execution_count": null,
   "metadata": {},
   "outputs": [],
   "source": [
    "rf_clf = RandomForestClassifier(random_state=26)\n",
    "rf_clf.fit(X_train, y_train)\n",
    "pred = rf_clf.predict(X_test)\n",
    "accuracy =  accuracy_score(y_test, pred)\n",
    "print(\"랜덤 포레스트 정확도 : {:.4f}\".format(accuracy))"
   ]
  },
  {
   "cell_type": "code",
   "execution_count": null,
   "metadata": {},
   "outputs": [],
   "source": []
  },
  {
   "cell_type": "markdown",
   "metadata": {},
   "source": [
    "## GridSearchCV\n",
    "## 최적 하이퍼 파라미터 "
   ]
  },
  {
   "cell_type": "code",
   "execution_count": null,
   "metadata": {},
   "outputs": [],
   "source": [
    "%%time\n",
    "from sklearn.model_selection import GridSearchCV\n",
    "params={\n",
    "    'n_estimators':[50,100,150],\n",
    "    'criterion':['gini','entropy'],\n",
    "    'max_depth':[6,8,10,12],\n",
    "    'min_samples_leaf':[8,12,18],\n",
    "    'min_samples_split':[8,16,20]\n",
    "}\n",
    "rf_clf = RandomForestClassifier(random_state=25, n_jobs=-1)\n",
    "grid_cv = GridSearchCV(rf_clf, param_grid=params, cv=2, n_jobs=-1)\n",
    "grid_cv.fit(X_train, y_train)"
   ]
  },
  {
   "cell_type": "code",
   "execution_count": null,
   "metadata": {},
   "outputs": [],
   "source": [
    "print(\"최적 하이퍼 파라미터 : \\n\", grid_cv.best_params_)"
   ]
  },
  {
   "cell_type": "code",
   "execution_count": null,
   "metadata": {},
   "outputs": [],
   "source": [
    "pred = grid_cv.best_estimator_.predict(X_test)\n",
    "accuracy =  accuracy_score(y_test, pred)\n",
    "print('accuracy{:.4f}'.format(accuracy))"
   ]
  },
  {
   "cell_type": "code",
   "execution_count": null,
   "metadata": {},
   "outputs": [],
   "source": []
  },
  {
   "cell_type": "code",
   "execution_count": null,
   "metadata": {},
   "outputs": [],
   "source": []
  },
  {
   "cell_type": "code",
   "execution_count": null,
   "metadata": {},
   "outputs": [],
   "source": [
    "X_columns = [agg + '_' + column for agg,column in X_train.columns]\n",
    "X_train.columns = X_columns\n",
    "X_train.columns = X_columns\n",
    "display(X_train.head())"
   ]
  },
  {
   "cell_type": "code",
   "execution_count": null,
   "metadata": {},
   "outputs": [],
   "source": [
    "X_columns = [agg + '_' + column for agg,column in X_test.columns]\n",
    "X_test.columns = X_columns\n",
    "X_test.columns = X_columns\n",
    "display(X_test.head())"
   ]
  },
  {
   "cell_type": "code",
   "execution_count": null,
   "metadata": {},
   "outputs": [],
   "source": [
    "X_test.info()"
   ]
  },
  {
   "cell_type": "code",
   "execution_count": null,
   "metadata": {},
   "outputs": [],
   "source": []
  },
  {
   "cell_type": "code",
   "execution_count": null,
   "metadata": {},
   "outputs": [],
   "source": [
    "from lightgbm import LGBMClassifier\n",
    "\n"
   ]
  },
  {
   "cell_type": "code",
   "execution_count": null,
   "metadata": {},
   "outputs": [],
   "source": [
    "# 객체 생성\n",
    "model = LGBMClassifier(n_estimators=400)\n",
    "evals = [(X_test, y_test)]\n",
    "lgb_model = model.fit(X_train, y_train, early_stopping_rounds=100, \n",
    "                        eval_metric='logloss',eval_set=evals,verbose=True)\n",
    "\n",
    "# 예측하기\n",
    "pred = lgb_model.predict(X_test)\n",
    "pred_proba = lgb_model.predict_proba(X_test)[:,1]\n",
    "\n",
    "confusion = confusion_matrix(y_test, pred)\n",
    "accuracy = accuracy_score(y_test, pred)\n",
    "## precision = precision_score(y_test, pred)\n",
    "## recall = recall_score(y_test, pred)\n",
    "## F1 = f1_score(y_test, pred)\n",
    "## AUC = roc_auc_score(y_test, pred, pred_proba)\n",
    "# 특성 중요도 시각화\n",
    "fig, ax = plt.subplots(figsize=(10,12))\n",
    "plot_importance(lgb_model, ax=ax)\n",
    "print('오차행렬:\\n', confusion)\n",
    "print('\\n정확도: {:.4f}'.format(accuracy))\n",
    "## print('정밀도: {:.4f}'.format(precision))\n",
    "## print('재현율: {:.4f}'.format(recall))\n",
    "## print('F1: {:.4f}'.format(F1))\n",
    "## print('AUC: {:.4f}'.format(AUC))"
   ]
  },
  {
   "cell_type": "code",
   "execution_count": null,
   "metadata": {},
   "outputs": [],
   "source": []
  },
  {
   "cell_type": "code",
   "execution_count": null,
   "metadata": {},
   "outputs": [],
   "source": []
  }
 ],
 "metadata": {
  "kernelspec": {
   "display_name": "Python 3",
   "language": "python",
   "name": "python3"
  },
  "language_info": {
   "codemirror_mode": {
    "name": "ipython",
    "version": 3
   },
   "file_extension": ".py",
   "mimetype": "text/x-python",
   "name": "python",
   "nbconvert_exporter": "python",
   "pygments_lexer": "ipython3",
   "version": "3.7.9"
  }
 },
 "nbformat": 4,
 "nbformat_minor": 5
}
